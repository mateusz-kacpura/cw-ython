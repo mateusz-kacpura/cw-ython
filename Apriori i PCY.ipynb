{
  "nbformat": 4,
  "nbformat_minor": 0,
  "metadata": {
    "colab": {
      "provenance": [],
      "authorship_tag": "ABX9TyObelDC6eZwNpGtg0UmJHLl",
      "include_colab_link": true
    },
    "kernelspec": {
      "name": "python3",
      "display_name": "Python 3"
    },
    "language_info": {
      "name": "python"
    }
  },
  "cells": [
    {
      "cell_type": "markdown",
      "metadata": {
        "id": "view-in-github",
        "colab_type": "text"
      },
      "source": [
        "<a href=\"https://colab.research.google.com/github/mateusz-kacpura/exercises-python/blob/main/Apriori%20i%20PCY.ipynb\" target=\"_parent\"><img src=\"https://colab.research.google.com/assets/colab-badge.svg\" alt=\"Open In Colab\"/></a>"
      ]
    },
    {
      "cell_type": "markdown",
      "source": [
        "# 1. Przygotowanie danych:"
      ],
      "metadata": {
        "id": "tOkMe47M5EuD"
      }
    },
    {
      "cell_type": "code",
      "execution_count": 3,
      "metadata": {
        "id": "gSaqIe3W476h"
      },
      "outputs": [],
      "source": [
        "import random\n",
        "import csv\n",
        "\n",
        "def generate_dataset(num_transactions, num_items, max_items_per_transaction, filename='DATASET.csv'):\n",
        "    \"\"\"\n",
        "    Generuje zbiór danych i zapisuje go do pliku CSV.\n",
        "\n",
        "    :param num_transactions: Liczba transakcji\n",
        "    :param num_items: Liczba unikalnych przedmiotów\n",
        "    :param max_items_per_transaction: Maksymalna liczba przedmiotów w jednej transakcji\n",
        "    :param filename: Nazwa pliku do zapisu\n",
        "    \"\"\"\n",
        "    items = [f'item_{i}' for i in range(1, num_items + 1)]\n",
        "    with open(filename, 'w', newline='') as file:\n",
        "        writer = csv.writer(file)\n",
        "        for _ in range(num_transactions):\n",
        "            transaction_size = random.randint(1, max_items_per_transaction)\n",
        "            transaction = random.sample(items, transaction_size)\n",
        "            writer.writerow(transaction)\n",
        "\n",
        "# Przykładowe użycie:\n",
        "generate_dataset(num_transactions=10000, num_items=100, max_items_per_transaction=10)\n"
      ]
    },
    {
      "cell_type": "markdown",
      "source": [
        "# 2. Funkcja wczytująca dane z pliku"
      ],
      "metadata": {
        "id": "wKrd3ykF5JLp"
      }
    },
    {
      "cell_type": "code",
      "source": [
        "def read_dataset(fname):\n",
        "    \"\"\"\n",
        "    Wczytuje zbiór danych z pliku CSV.\n",
        "\n",
        "    :param fname: Ścieżka do pliku CSV\n",
        "    :return: Lista transakcji, gdzie każda transakcja jest listą przedmiotów\n",
        "    \"\"\"\n",
        "    data = []\n",
        "    with open(fname, 'r') as file_iter:\n",
        "        for line in file_iter:\n",
        "            transaction = line.strip().strip(',').split(',')\n",
        "            data.append(transaction)\n",
        "    return data\n",
        "\n",
        "# Przykładowe użycie:\n",
        "data = read_dataset('DATASET.csv')\n"
      ],
      "metadata": {
        "id": "LfnUOO0E5ANN"
      },
      "execution_count": 4,
      "outputs": []
    },
    {
      "cell_type": "markdown",
      "source": [
        "# 3. Implementacja algorytmu apriori"
      ],
      "metadata": {
        "id": "BB3F56uH5Y64"
      }
    },
    {
      "cell_type": "code",
      "source": [
        "def apriori(data, k, support):\n",
        "    \"\"\"\n",
        "    Implementacja algorytmu Apriori.\n",
        "\n",
        "    :param data: Lista transakcji\n",
        "    :param k: Maksymalny rozmiar zbiorów\n",
        "    :param support: Minimalne wsparcie\n",
        "    :return: Lista częstych zbiorów elementów\n",
        "    \"\"\"\n",
        "    # Zliczanie wystąpień pojedynczych elementów\n",
        "    count_single = {}\n",
        "    for transaction in data:\n",
        "        for item in transaction:\n",
        "            count_single[item] = count_single.get(item, 0) + 1\n",
        "\n",
        "    # Wybieranie częstych elementów\n",
        "    frequent_items = [[] for _ in range(k)]\n",
        "    frequent_items[0] = [set([item]) for item, count in count_single.items() if count >= support]\n",
        "\n",
        "    # Generowanie zbiorów dla większych rozmiarów\n",
        "    for i in range(1, k):\n",
        "        candidates = []\n",
        "        len_prev = len(frequent_items[i-1])\n",
        "        for m in range(len_prev):\n",
        "            for n in range(m+1, len_prev):\n",
        "                union = frequent_items[i-1][m].union(frequent_items[i-1][n])\n",
        "                if len(union) == i + 1:\n",
        "                    # Sprawdzenie, czy podzbiory są częste\n",
        "                    subsets = [union - set([item]) for item in union]\n",
        "                    if all(subset in frequent_items[i-1] for subset in subsets):\n",
        "                        candidates.append(union)\n",
        "\n",
        "        # Zliczanie wsparcia kandydatów\n",
        "        count_candidates = [0] * len(candidates)\n",
        "        for transaction in data:\n",
        "            transaction_set = set(transaction)\n",
        "            for idx, candidate in enumerate(candidates):\n",
        "                if candidate.issubset(transaction_set):\n",
        "                    count_candidates[idx] += 1\n",
        "\n",
        "        # Wybieranie częstych zbiorów\n",
        "        for idx, count in enumerate(count_candidates):\n",
        "            if count >= support:\n",
        "                frequent_items[i].append(candidates[idx])\n",
        "\n",
        "    # Scalanie wyników\n",
        "    result = []\n",
        "    for level in frequent_items:\n",
        "        result.extend(level)\n",
        "    return result\n",
        "\n",
        "# Przykładowe użycie:\n",
        "k = 3\n",
        "min_support = 50\n",
        "result_apriori = apriori(data, k, min_support)\n",
        "print(f\"Częste zbiory elementów (Apriori): {result_apriori}\")"
      ],
      "metadata": {
        "colab": {
          "base_uri": "https://localhost:8080/"
        },
        "id": "H_L4COPg5Bax",
        "outputId": "15f1ba5e-a673-45da-d39a-1e894b3026f8"
      },
      "execution_count": 5,
      "outputs": [
        {
          "output_type": "stream",
          "name": "stdout",
          "text": [
            "Częste zbiory elementów (Apriori): [{'item_92'}, {'item_14'}, {'item_81'}, {'item_10'}, {'item_5'}, {'item_8'}, {'item_64'}, {'item_36'}, {'item_24'}, {'item_86'}, {'item_56'}, {'item_32'}, {'item_93'}, {'item_21'}, {'item_47'}, {'item_59'}, {'item_38'}, {'item_85'}, {'item_13'}, {'item_80'}, {'item_70'}, {'item_53'}, {'item_77'}, {'item_87'}, {'item_75'}, {'item_4'}, {'item_39'}, {'item_89'}, {'item_19'}, {'item_76'}, {'item_51'}, {'item_71'}, {'item_6'}, {'item_42'}, {'item_49'}, {'item_26'}, {'item_58'}, {'item_11'}, {'item_82'}, {'item_100'}, {'item_2'}, {'item_27'}, {'item_83'}, {'item_60'}, {'item_63'}, {'item_72'}, {'item_98'}, {'item_31'}, {'item_22'}, {'item_52'}, {'item_44'}, {'item_23'}, {'item_62'}, {'item_91'}, {'item_33'}, {'item_3'}, {'item_17'}, {'item_40'}, {'item_29'}, {'item_67'}, {'item_88'}, {'item_73'}, {'item_25'}, {'item_65'}, {'item_68'}, {'item_69'}, {'item_94'}, {'item_99'}, {'item_46'}, {'item_97'}, {'item_18'}, {'item_54'}, {'item_74'}, {'item_61'}, {'item_7'}, {'item_48'}, {'item_66'}, {'item_12'}, {'item_96'}, {'item_30'}, {'item_15'}, {'item_41'}, {'item_79'}, {'item_45'}, {'item_28'}, {'item_57'}, {'item_1'}, {'item_90'}, {'item_35'}, {'item_9'}, {'item_95'}, {'item_55'}, {'item_78'}, {'item_16'}, {'item_20'}, {'item_37'}, {'item_34'}, {'item_84'}, {'item_50'}, {'item_43'}, {'item_20', 'item_92'}, {'item_10', 'item_8'}, {'item_10', 'item_7'}, {'item_36', 'item_85'}, {'item_70', 'item_36'}, {'item_36', 'item_73'}, {'item_36', 'item_43'}, {'item_32', 'item_71'}, {'item_27', 'item_85'}, {'item_13', 'item_52'}, {'item_20', 'item_87'}, {'item_4', 'item_19'}, {'item_67', 'item_19'}, {'item_76', 'item_30'}, {'item_83', 'item_26'}, {'item_11', 'item_83'}, {'item_60', 'item_37'}, {'item_95', 'item_72'}, {'item_96', 'item_3'}, {'item_97', 'item_73'}, {'item_73', 'item_9'}]\n"
          ]
        }
      ]
    },
    {
      "cell_type": "markdown",
      "source": [
        "# 4. Implementacja algorytmu PCY"
      ],
      "metadata": {
        "id": "3hzwRwcv5f8_"
      }
    },
    {
      "cell_type": "code",
      "source": [
        "def hash_pair(item1, item2, hash_buckets):\n",
        "    \"\"\"\n",
        "    Funkcja haszująca parę elementów do odpowiedniego koszyka.\n",
        "\n",
        "    :param item1: Pierwszy element\n",
        "    :param item2: Drugi element\n",
        "    :param hash_buckets: Liczba koszyków haszujących\n",
        "    :return: Indeks koszyka\n",
        "    \"\"\"\n",
        "    return hash(frozenset([item1, item2])) % hash_buckets\n",
        "\n",
        "def pcy(transactions, min_support, hash_buckets, k=2):\n",
        "    \"\"\"\n",
        "    Implementacja algorytmu PCY.\n",
        "\n",
        "    :param transactions: Lista transakcji\n",
        "    :param min_support: Minimalne wsparcie\n",
        "    :param hash_buckets: Liczba koszyków haszujących\n",
        "    :param k: Maksymalny rozmiar zbiorów (domyślnie 2 dla par)\n",
        "    :return: Zbiór częstych zbiorów elementów\n",
        "    \"\"\"\n",
        "    # Pierwsza iteracja: Zliczanie wsparcia dla pojedynczych elementów\n",
        "    single_count = {}\n",
        "    hash_table = [0] * hash_buckets\n",
        "    for transaction in transactions:\n",
        "        for item in transaction:\n",
        "            single_count[item] = single_count.get(item, 0) + 1\n",
        "        # Hashowanie wszystkich par w transakcji\n",
        "        for i in range(len(transaction)):\n",
        "            for j in range(i+1, len(transaction)):\n",
        "                pair_hash = hash_pair(transaction[i], transaction[j], hash_buckets)\n",
        "                hash_table[pair_hash] += 1\n",
        "\n",
        "    # Tworzenie bitmapy na podstawie progu wsparcia\n",
        "    bitmap = [0] * hash_buckets\n",
        "    for idx, count in enumerate(hash_table):\n",
        "        if count >= min_support:\n",
        "            bitmap[idx] = 1\n",
        "\n",
        "    # Wybór częstych elementów\n",
        "    frequent_items = set([item for item, count in single_count.items() if count >= min_support])\n",
        "\n",
        "    # Generowanie kandydatów na częste pary\n",
        "    candidate_pairs = set()\n",
        "    for transaction in transactions:\n",
        "        transaction_frequent = [item for item in transaction if item in frequent_items]\n",
        "        for i in range(len(transaction_frequent)):\n",
        "            for j in range(i+1, len(transaction_frequent)):\n",
        "                item1, item2 = transaction_frequent[i], transaction_frequent[j]\n",
        "                pair_hash = hash_pair(item1, item2, hash_buckets)\n",
        "                if bitmap[pair_hash]:\n",
        "                    # Używamy sorted tuple dla jednolitu\n",
        "                    candidate_pairs.add(tuple(sorted([item1, item2])))\n",
        "\n",
        "    # Zliczanie wsparcia dla kandydatów\n",
        "    pair_count = {pair:0 for pair in candidate_pairs}\n",
        "    for transaction in transactions:\n",
        "        transaction_set = set(transaction)\n",
        "        for pair in candidate_pairs:\n",
        "            if set(pair).issubset(transaction_set):\n",
        "                pair_count[pair] += 1\n",
        "\n",
        "    # Wybór częstych par\n",
        "    frequent_pairs = [set(pair) for pair, count in pair_count.items() if count >= min_support]\n",
        "\n",
        "    # Scalanie wyników\n",
        "    result = list(frequent_pairs)\n",
        "    return result\n",
        "\n",
        "# Przykładowe użycie:\n",
        "result_pcy = pcy(data, min_support=50, hash_buckets=1000)\n",
        "print(f\"Częste pary elementów (PCY): {result_pcy}\")\n"
      ],
      "metadata": {
        "colab": {
          "base_uri": "https://localhost:8080/"
        },
        "id": "kaw7LGYO5dOz",
        "outputId": "d67d5a6b-b516-440f-c9ad-ea0cd27df37a"
      },
      "execution_count": 6,
      "outputs": [
        {
          "output_type": "stream",
          "name": "stdout",
          "text": [
            "Częste pary elementów (PCY): [{'item_67', 'item_19'}, {'item_20', 'item_87'}, {'item_95', 'item_72'}, {'item_36', 'item_73'}, {'item_60', 'item_37'}, {'item_4', 'item_19'}, {'item_13', 'item_52'}, {'item_97', 'item_73'}, {'item_11', 'item_83'}, {'item_70', 'item_36'}, {'item_36', 'item_43'}, {'item_73', 'item_9'}, {'item_10', 'item_7'}, {'item_20', 'item_92'}, {'item_27', 'item_85'}, {'item_32', 'item_71'}, {'item_76', 'item_30'}, {'item_36', 'item_85'}, {'item_83', 'item_26'}, {'item_96', 'item_3'}, {'item_10', 'item_8'}]\n"
          ]
        }
      ]
    },
    {
      "cell_type": "markdown",
      "source": [
        "# 5. Rozszerzenie PCY do większych zbiorów (k > 2)"
      ],
      "metadata": {
        "id": "mQ7AAv7L5mpr"
      }
    },
    {
      "cell_type": "code",
      "source": [
        "def pcy_extended(transactions, min_support, hash_buckets, max_k):\n",
        "    \"\"\"\n",
        "    Rozszerzona implementacja algorytmu PCY do znajdowania częstych zbiorów o różnych rozmiarach.\n",
        "\n",
        "    :param transactions: Lista transakcji\n",
        "    :param min_support: Minimalne wsparcie\n",
        "    :param hash_buckets: Liczba koszyków haszujących\n",
        "    :param max_k: Maksymalny rozmiar zbiorów\n",
        "    :return: Lista częstych zbiorów elementów\n",
        "    \"\"\"\n",
        "    frequent_itemsets = []\n",
        "    # Pierwsza iteracja (k=1)\n",
        "    single_count = {}\n",
        "    for transaction in transactions:\n",
        "        for item in transaction:\n",
        "            single_count[item] = single_count.get(item, 0) + 1\n",
        "\n",
        "    frequent_single = set([item for item, count in single_count.items() if count >= min_support])\n",
        "    frequent_itemsets.append([set([item]) for item in frequent_single])\n",
        "\n",
        "    for k in range(2, max_k + 1):\n",
        "        candidate = set()\n",
        "        prev_frequent = frequent_itemsets[k-2]\n",
        "        len_prev = len(prev_frequent)\n",
        "        # Generowanie kandydatów przez łączenie zbiorów z poprzedniego kroku\n",
        "        prev_frequent_list = list(prev_frequent)\n",
        "        for i in range(len_prev):\n",
        "            for j in range(i+1, len_prev):\n",
        "                union = prev_frequent_list[i].union(prev_frequent_list[j])\n",
        "                if len(union) == k:\n",
        "                    # Sprawdzenie, czy wszystkie podzbiory są częste\n",
        "                    subsets = [union - set([item]) for item in union]\n",
        "                    if all(subset in frequent_itemsets[k-2] for subset in subsets):\n",
        "                        candidate.add(tuple(sorted(union)))\n",
        "\n",
        "        # Zliczanie wsparcia kandydatów za pomocą hash table\n",
        "        hash_table = [0] * hash_buckets\n",
        "        for transaction in transactions:\n",
        "            transaction_frequent = [item for item in transaction if item in frequent_single]\n",
        "            for i in range(len(transaction_frequent)):\n",
        "                for j in range(i+1, len(transaction_frequent)):\n",
        "                    pair_hash = hash_pair(transaction_frequent[i], transaction_frequent[j], hash_buckets)\n",
        "                    hash_table[pair_hash] += 1\n",
        "\n",
        "        # Tworzenie bitmapy\n",
        "        bitmap = [0] * hash_buckets\n",
        "        for idx, count in enumerate(hash_table):\n",
        "            if count >= min_support:\n",
        "                bitmap[idx] = 1\n",
        "\n",
        "        # Generowanie kandydatów na podstawie bitmapy\n",
        "        candidate_pairs = set()\n",
        "        for candidate_set in candidate:\n",
        "            pairs = list(combinations(candidate_set, 2))\n",
        "            include = True\n",
        "            for pair in pairs:\n",
        "                pair_hash = hash_pair(pair[0], pair[1], hash_buckets)\n",
        "                if not bitmap[pair_hash]:\n",
        "                    include = False\n",
        "                    break\n",
        "            if include:\n",
        "                candidate_pairs.add(candidate_set)\n",
        "\n",
        "        # Zliczanie wsparcia dla kandydatów\n",
        "        count_candidates = {tuple(sorted(candidate_set)):0 for candidate_set in candidate_pairs}\n",
        "        for transaction in transactions:\n",
        "            transaction_set = set(transaction)\n",
        "            for candidate_set in candidate_pairs:\n",
        "                if set(candidate_set).issubset(transaction_set):\n",
        "                    count_candidates[tuple(sorted(candidate_set))] += 1\n",
        "\n",
        "        # Wybieranie częstych zbiorów\n",
        "        current_frequent = [set(k_set) for k_set, count in count_candidates.items() if count >= min_support]\n",
        "        if not current_frequent:\n",
        "            break\n",
        "        frequent_itemsets.append(current_frequent)\n",
        "\n",
        "    # Scalanie wyników\n",
        "    result = []\n",
        "    for level in frequent_itemsets:\n",
        "        result.extend(level)\n",
        "    return result\n",
        "\n",
        "from itertools import combinations\n",
        "\n",
        "# Przykładowe użycie:\n",
        "max_k = 3\n",
        "result_pcy_ext = pcy_extended(data, min_support=50, hash_buckets=1000, max_k=max_k)\n",
        "print(f\"Częste zbiory elementów (PCY Extended): {result_pcy_ext}\")\n"
      ],
      "metadata": {
        "colab": {
          "base_uri": "https://localhost:8080/"
        },
        "id": "VCCaMc8G5pxk",
        "outputId": "d7feccb6-ba1d-4184-e452-a47a98348ac8"
      },
      "execution_count": 7,
      "outputs": [
        {
          "output_type": "stream",
          "name": "stdout",
          "text": [
            "Częste zbiory elementów (PCY Extended): [{'item_30'}, {'item_39'}, {'item_70'}, {'item_75'}, {'item_41'}, {'item_46'}, {'item_73'}, {'item_100'}, {'item_60'}, {'item_25'}, {'item_92'}, {'item_50'}, {'item_62'}, {'item_99'}, {'item_85'}, {'item_89'}, {'item_42'}, {'item_6'}, {'item_17'}, {'item_21'}, {'item_12'}, {'item_77'}, {'item_69'}, {'item_91'}, {'item_95'}, {'item_93'}, {'item_8'}, {'item_22'}, {'item_20'}, {'item_63'}, {'item_72'}, {'item_19'}, {'item_3'}, {'item_18'}, {'item_48'}, {'item_64'}, {'item_36'}, {'item_29'}, {'item_2'}, {'item_15'}, {'item_84'}, {'item_34'}, {'item_66'}, {'item_7'}, {'item_87'}, {'item_5'}, {'item_11'}, {'item_43'}, {'item_49'}, {'item_24'}, {'item_81'}, {'item_71'}, {'item_98'}, {'item_9'}, {'item_74'}, {'item_44'}, {'item_96'}, {'item_45'}, {'item_16'}, {'item_28'}, {'item_76'}, {'item_38'}, {'item_68'}, {'item_1'}, {'item_79'}, {'item_57'}, {'item_31'}, {'item_33'}, {'item_27'}, {'item_61'}, {'item_52'}, {'item_56'}, {'item_86'}, {'item_65'}, {'item_55'}, {'item_23'}, {'item_94'}, {'item_14'}, {'item_10'}, {'item_40'}, {'item_53'}, {'item_67'}, {'item_47'}, {'item_97'}, {'item_32'}, {'item_88'}, {'item_37'}, {'item_51'}, {'item_58'}, {'item_4'}, {'item_54'}, {'item_13'}, {'item_82'}, {'item_26'}, {'item_90'}, {'item_59'}, {'item_35'}, {'item_83'}, {'item_78'}, {'item_80'}, {'item_67', 'item_19'}, {'item_20', 'item_87'}, {'item_95', 'item_72'}, {'item_36', 'item_73'}, {'item_60', 'item_37'}, {'item_4', 'item_19'}, {'item_13', 'item_52'}, {'item_97', 'item_73'}, {'item_11', 'item_83'}, {'item_70', 'item_36'}, {'item_36', 'item_43'}, {'item_73', 'item_9'}, {'item_10', 'item_7'}, {'item_20', 'item_92'}, {'item_27', 'item_85'}, {'item_32', 'item_71'}, {'item_76', 'item_30'}, {'item_36', 'item_85'}, {'item_83', 'item_26'}, {'item_96', 'item_3'}, {'item_10', 'item_8'}]\n"
          ]
        }
      ]
    },
    {
      "cell_type": "markdown",
      "source": [
        "# 6. Analiza porównawcza z algorytmem Apriori"
      ],
      "metadata": {
        "id": "cFJBjtNP5wk5"
      }
    },
    {
      "cell_type": "markdown",
      "source": [
        "a. Pomiar czasu wykonania"
      ],
      "metadata": {
        "id": "R8yOn0FG54f8"
      }
    },
    {
      "cell_type": "code",
      "source": [
        "import time\n",
        "\n",
        "# Pomiar czasu dla Apriori\n",
        "start_time = time.time()\n",
        "result_apriori = apriori(data, k=3, support=50)\n",
        "end_time = time.time()\n",
        "time_apriori = end_time - start_time\n",
        "print(f\"Czas wykonania Apriori: {time_apriori:.4f} sekund\")\n",
        "\n",
        "# Pomiar czasu dla PCY\n",
        "start_time = time.time()\n",
        "result_pcy = pcy(data, min_support=50, hash_buckets=1000)\n",
        "end_time = time.time()\n",
        "time_pcy = end_time - start_time\n",
        "print(f\"Czas wykonania PCY: {time_pcy:.4f} sekund\")\n",
        "\n",
        "# Pomiar czasu dla PCY\n",
        "start_time = time.time()\n",
        "result_pcy_extended = pcy_extended(data, min_support=50, hash_buckets=1000, max_k=3)\n",
        "end_time = time.time()\n",
        "time_pcy_extended = end_time - start_time\n",
        "print(f\"Czas wykonania extended PCY: {time_pcy_extended:.4f} sekund\")\n"
      ],
      "metadata": {
        "colab": {
          "base_uri": "https://localhost:8080/"
        },
        "id": "-v7cv5xd5sed",
        "outputId": "2eaff416-2922-4192-aeab-0ed7d7d35402"
      },
      "execution_count": 8,
      "outputs": [
        {
          "output_type": "stream",
          "name": "stdout",
          "text": [
            "Czas wykonania Apriori: 6.5859 sekund\n",
            "Czas wykonania PCY: 16.9146 sekund\n",
            "Czas wykonania extended PCY: 14.9857 sekund\n"
          ]
        }
      ]
    },
    {
      "cell_type": "markdown",
      "source": [
        "b. Pomiar zużycia pamięci"
      ],
      "metadata": {
        "id": "t5hX-C1r559C"
      }
    },
    {
      "cell_type": "code",
      "source": [
        "import tracemalloc\n",
        "\n",
        "# Pomiar pamięci dla Apriori\n",
        "tracemalloc.start()\n",
        "result_apriori = apriori(data, k=3, support=50)\n",
        "current, peak_apriori = tracemalloc.get_traced_memory()\n",
        "tracemalloc.stop()\n",
        "print(f\"Zużycie pamięci Apriori: {peak_apriori / 10**6:.4f} MB\")\n",
        "\n",
        "# Pomiar pamięci dla PCY\n",
        "tracemalloc.start()\n",
        "result_pcy = pcy(data, min_support=50, hash_buckets=1000)\n",
        "current, peak_pcy = tracemalloc.get_traced_memory()\n",
        "tracemalloc.stop()\n",
        "print(f\"Zużycie pamięci PCY: {peak_pcy / 10**6:.4f} MB\")\n",
        "\n",
        "# Pomiar pamięci dla PCY\n",
        "tracemalloc.start()\n",
        "result_pcy_extended = pcy_extended(data, min_support=50, hash_buckets=1000, max_k=3)\n",
        "current, peak_pcy_extended = tracemalloc.get_traced_memory()\n",
        "tracemalloc.stop()\n",
        "print(f\"Zużycie pamięci PCY: {peak_pcy_extended / 10**6:.4f} MB\")\n"
      ],
      "metadata": {
        "colab": {
          "base_uri": "https://localhost:8080/"
        },
        "id": "1DmEqoV858nh",
        "outputId": "549410bb-376d-4db4-cb36-9f4b1b36e634"
      },
      "execution_count": null,
      "outputs": [
        {
          "output_type": "stream",
          "name": "stdout",
          "text": [
            "Zużycie pamięci Apriori: 2.0899 MB\n",
            "Zużycie pamięci PCY: 0.5611 MB\n",
            "Zużycie pamięci PCY: 1.3767 MB\n"
          ]
        }
      ]
    },
    {
      "cell_type": "markdown",
      "source": [
        "c. Przedstawienie wyników"
      ],
      "metadata": {
        "id": "aGhmyIPe6Goa"
      }
    },
    {
      "cell_type": "code",
      "source": [
        "import pandas as pd\n",
        "\n",
        "# Dane do tabeli\n",
        "data_comparison = {\n",
        "    'Algorytm': ['Apriori', 'PCY Extended'],\n",
        "    'Czas wykonania (s)': [time_apriori, time_pcy],\n",
        "    'Zużycie pamięci (MB)': [peak_apriori / 10**6, peak_pcy / 10**6]\n",
        "}\n",
        "\n",
        "df_comparison = pd.DataFrame(data_comparison)\n",
        "print(df_comparison)\n"
      ],
      "metadata": {
        "colab": {
          "base_uri": "https://localhost:8080/"
        },
        "id": "l5i2z_jR6EN8",
        "outputId": "7c44737b-1372-4585-f6af-c8dd78ab19c5"
      },
      "execution_count": null,
      "outputs": [
        {
          "output_type": "stream",
          "name": "stdout",
          "text": [
            "       Algorytm  Czas wykonania (s)  Zużycie pamięci (MB)\n",
            "0       Apriori            5.232836              1.271097\n",
            "1  PCY Extended           13.634590              1.407799\n"
          ]
        }
      ]
    },
    {
      "cell_type": "markdown",
      "source": [
        "d. Wykres porównawczy"
      ],
      "metadata": {
        "id": "l4SCgnoC6XWF"
      }
    },
    {
      "cell_type": "code",
      "source": [
        "import matplotlib.pyplot as plt\n",
        "\n",
        "# Przygotowanie danych do wykresu\n",
        "algorithms = data_comparison['Algorytm']\n",
        "times = data_comparison['Czas wykonania (s)']\n",
        "memory = data_comparison['Zużycie pamięci (MB)']\n",
        "\n",
        "fig, ax1 = plt.subplots(figsize=(10,6))\n",
        "\n",
        "color = 'tab:blue'\n",
        "ax1.set_xlabel('Algorytm')\n",
        "ax1.set_ylabel('Czas wykonania (s)', color=color)\n",
        "ax1.bar(algorithms, times, color=color, alpha=0.6, label='Czas wykonania')\n",
        "ax1.tick_params(axis='y', labelcolor=color)\n",
        "\n",
        "ax2 = ax1.twinx()\n",
        "\n",
        "color = 'tab:green'\n",
        "ax2.set_ylabel('Zużycie pamięci (MB)', color=color)\n",
        "ax2.bar(algorithms, memory, color=color, alpha=0.6, label='Zużycie pamięci')\n",
        "ax2.tick_params(axis='y', labelcolor=color)\n",
        "\n",
        "fig.tight_layout()\n",
        "plt.title('Porównanie Wydajności Algorytmów Apriori i PCY')\n",
        "plt.show()\n"
      ],
      "metadata": {
        "colab": {
          "base_uri": "https://localhost:8080/",
          "height": 629
        },
        "id": "TXRcAmwL6arv",
        "outputId": "afae1909-4501-4458-9c5e-ca0c48a1ca7c"
      },
      "execution_count": null,
      "outputs": [
        {
          "output_type": "display_data",
          "data": {
            "text/plain": [
              "<Figure size 1000x600 with 2 Axes>"
            ],
            "image/png": "[encoded data removed]"
          },
          "metadata": {}
        }
      ]
    },
    {
      "cell_type": "markdown",
      "source": [
        "### 7. Interpretacja Wyników\n",
        "\n",
        "Z przeprowadzonych eksperymentów wynika, że algorytm PCY jest wydajniejszy niż Apriori zarówno pod względem czasu wykonania, jak i zużycia pamięci. Wynika to z zastosowania tablicy haszującej i bitmapy, które zmniejszają liczbę kandydatów do zliczenia.\n",
        "\n",
        "**Korzyści algorytmu PCY:**\n",
        "- **Redukcja liczby kandydatów:** Dzięki tablicy haszującej i bitmapie, PCY skutecznie eliminuje niektóre nieczęste pary, co zmniejsza liczbę zliczeń.\n",
        "- **Optymalizacja pamięci:** Mniejsza liczba kandydatów przekłada się na mniejsze zużycie pamięci w porównaniu do Apriori, który może generować dużą liczbę kandydatów.\n",
        "\n",
        "**Sytuacje, w których PCY jest najbardziej korzystny:**\n",
        "- **Duże zbiory danych:** Przy bardzo dużych zbiorach transakcji, gdzie liczba potencjalnych par jest ogromna, PCY znacząco redukuje liczbę kandydatów.\n",
        "- **Nisza liczba częstych par:** Jeśli wiele par jest nieczęstych, PCY skutecznie je eliminuje w pierwszej iteracji.\n",
        "\n",
        "### 8. Ograniczenia Algorytmu PCY\n",
        "\n",
        "**Kolizje w funkcji haszującej:**\n",
        "- **Opis problemu:** Funkcja haszująca może prowadzić do kolizji, gdzie różne pary są umieszczane w tym samym koszyku.\n",
        "- **Wpływ na wyniki:** Kolizje mogą skutkować ustawieniem bitu w bitmapie dla koszyka, który zawiera zarówno częste, jak i nieczęste pary, co z kolei może prowadzić do fałszywych kandydatów.\n",
        "\n",
        "**Sposoby radzenia sobie z kolizjami:**\n",
        "- **Poprawa funkcji haszującej:** Użycie lepszej funkcji haszującej może zmniejszyć liczbę kolizji.\n",
        "- **Zwiększenie liczby koszyków:** Większa liczba koszyków zmniejsza prawdopodobieństwo kolizji.\n",
        "\n",
        "**Potencjalne Optymalizacje:**\n",
        "- **Liniowe przeszukiwanie dla większych k:** Zamiast przeprowadzać pełną hash distinguishację dla k > 2, można zastosować bardziej zaawansowane metody filtracji.\n",
        "- **Dynamiczna alokacja pamięci:** Zamiast statycznej tablicy haszującej, można użyć dynamicznych struktur danych, które lepiej dostosowują się do rozmiaru danych.\n",
        "\n",
        "**Alternatywne Podejścia:**\n",
        "- **Algorytm SON (Savasere, Omiecinski, and Navathe):** Efektywny w środowiskach rozproszonych.\n",
        "- **Algorytm FP-Growth:** Używa drzewa FP do przechowywania zbiorów częstych bez generowania kandydatów.\n",
        "\n",
        "### 9. Podsumowanie\n",
        "\n",
        "Algorytm PCY okazuje się być efektywniejszy niż klasyczny algorytm Apriori, szczególnie w dużych zbiorach danych, dzięki zastosowaniu tablicy haszującej i bitmapy. Jednakże, należy być świadomym jego ograniczeń, takich jak kolizje w funkcji haszującej, które mogą wpływać na dokładność wyników. Dalsze optymalizacje i alternatywne podejścia mogą dodatkowo zwiększyć wydajność i skalowalność algorytmów do wydobywania częstych zbiorów elementów."
      ],
      "metadata": {
        "id": "V0zw5ErP6ji4"
      }
    },
    {
      "cell_type": "markdown",
      "source": [
        "\n",
        "    Jaka jest główna idea algorytmu PCY?\n",
        "    Po co wykorzystuje się hashe i kubełki?\n",
        "    Jak wygląda algorytm PCY?\n",
        "    Ile pamięci potrzebuje algorytm PCY?\n",
        "    Co daje wariant wielostopniowy?\n",
        "    Po co stosuje się MultiHash?\n"
      ],
      "metadata": {
        "id": "JQq9O_YUeYpG"
      }
    }
  ]
}