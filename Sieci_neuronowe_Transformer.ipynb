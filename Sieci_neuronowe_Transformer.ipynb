{
  "nbformat": 4,
  "nbformat_minor": 0,
  "metadata": {
    "colab": {
      "provenance": [],
      "authorship_tag": "ABX9TyO6dafJhoFWaglQNLBAMg4o",
      "include_colab_link": true
    },
    "kernelspec": {
      "name": "python3",
      "display_name": "Python 3"
    },
    "language_info": {
      "name": "python"
    }
  },
  "cells": [
    {
      "cell_type": "markdown",
      "metadata": {
        "id": "view-in-github",
        "colab_type": "text"
      },
      "source": [
        "<a href=\"https://colab.research.google.com/github/mateusz-kacpura/exercises-python/blob/main/Sieci_neuronowe_Transformer.ipynb\" target=\"_parent\"><img src=\"https://colab.research.google.com/assets/colab-badge.svg\" alt=\"Open In Colab\"/></a>"
      ]
    },
    {
      "cell_type": "code",
      "source": [
        "import tensorflow as tf\n",
        "from tensorflow import keras\n",
        "from tensorflow.keras import layers\n",
        "\n",
        "class TransformerBlock(layers.Layer):\n",
        "    def __init__(self, n_heads, ff_dim, emb_dim):\n",
        "        super(TransformerBlock, self).__init__()\n",
        "        self.n_heads = n_heads\n",
        "        self.ff_dim = ff_dim\n",
        "        self.emb_dim = emb_dim\n",
        "        self.attention = layers.MultiHeadAttention(num_heads=n_heads, key_dim=emb_dim)\n",
        "        self.ff = keras.Sequential(\n",
        "            [layers.Dense(ff_dim, activation=\"relu\"), layers.Dense(emb_dim)]\n",
        "        )\n",
        "        self.normalizer_1 = layers.LayerNormalization(epsilon=1e-6)\n",
        "        self.normalizer_2 = layers.LayerNormalization(epsilon=1e-6)\n",
        "        self.dropout_1 = layers.Dropout(0.1)\n",
        "        self.dropout_2 = layers.Dropout(0.1)\n",
        "\n",
        "    def call(self, x):\n",
        "        attention_output = self.attention(x, x)\n",
        "        attention_output = self.dropout_1(attention_output)\n",
        "        bottleneck = self.normalizer_1(attention_output + x)\n",
        "        output = self.ff(bottleneck)\n",
        "        output = self.dropout_2(output)\n",
        "        output = self.normalizer_2(output + bottleneck)\n",
        "        return output\n",
        "\n",
        "class TransformerPE(layers.Layer):\n",
        "    def __init__(self, maxlen, vocab_size, embed_dim):\n",
        "        super(TransformerPE, self).__init__()\n",
        "        self.embedding_1 = layers.Embedding(input_dim=vocab_size, output_dim=embed_dim)\n",
        "        self.embedding_2 = layers.Embedding(input_dim=maxlen, output_dim=embed_dim)\n",
        "\n",
        "    def call(self, x):\n",
        "        maxlen = tf.shape(x)[-1]\n",
        "        positions = tf.range(start=0, limit=maxlen, delta=1)\n",
        "        positions = self.embedding_2(positions)\n",
        "        x = self.embedding_1(x)\n",
        "        x = x + positions\n",
        "        return x\n",
        "\n",
        "vocabularysize = 20000\n",
        "(x_train, y_train), (x_test, y_test) = keras.datasets.imdb.load_data(num_words=vocabularysize)\n",
        "print(len(x_train), \"Training sequences\")\n",
        "print(len(x_test), \"Test sequences\")\n",
        "maxlen = 200\n",
        "x_train = keras.preprocessing.sequence.pad_sequences(x_train, maxlen)\n",
        "x_test = keras.preprocessing.sequence.pad_sequences(x_test, maxlen)\n",
        "\n",
        "n_heads = 2\n",
        "emb_dim = 32  # Corrected variable name\n",
        "ff_dim = 32\n",
        "\n",
        "inputs = layers.Input(shape=(maxlen,))\n",
        "embedding = TransformerPE(maxlen, vocabularysize, emb_dim)(inputs)\n",
        "x = TransformerBlock(n_heads, ff_dim, emb_dim)(embedding)\n",
        "x = layers.GlobalAveragePooling1D()(x)\n",
        "x = layers.Dropout(0.1)(x)  # Corrected dropout rate\n",
        "x = layers.Dense(20, activation=\"relu\")(x)\n",
        "x = layers.Dropout(0.1)(x)\n",
        "outputs = layers.Dense(1, activation=\"sigmoid\")(x)  # Added missing output layer\n",
        "\n",
        "model = keras.Model(inputs=inputs, outputs=outputs)\n",
        "model.compile(optimizer=\"adam\", loss=\"sparce_categorical_crossentropy\", metrics=[\"accuracy\"])\n",
        "\n",
        "history = model.fit(\n",
        "    x_train, y_train, batch_size=32, epochs=2, validation_data=(x_test, y_test)\n",
        ")\n"
      ],
      "metadata": {
        "colab": {
          "base_uri": "https://localhost:8080/"
        },
        "id": "TDBCUSiThFvC",
        "outputId": "75d89989-112f-4555-da07-61ddbae058b1"
      },
      "execution_count": 8,
      "outputs": [
        {
          "output_type": "stream",
          "name": "stdout",
          "text": [
            "25000 Training sequences\n",
            "25000 Test sequences\n",
            "Epoch 1/2\n",
            "\u001b[1m782/782\u001b[0m \u001b[32m━━━━━━━━━━━━━━━━━━━━\u001b[0m\u001b[37m\u001b[0m \u001b[1m120s\u001b[0m 148ms/step - accuracy: 0.7144 - loss: 0.5157 - val_accuracy: 0.8803 - val_loss: 0.2823\n",
            "Epoch 2/2\n",
            "\u001b[1m782/782\u001b[0m \u001b[32m━━━━━━━━━━━━━━━━━━━━\u001b[0m\u001b[37m\u001b[0m \u001b[1m144s\u001b[0m 150ms/step - accuracy: 0.9322 - loss: 0.1889 - val_accuracy: 0.8728 - val_loss: 0.3079\n"
          ]
        }
      ]
    }
  ]
}